{
  "nbformat": 4,
  "nbformat_minor": 0,
  "metadata": {
    "colab": {
      "name": "Primer_Examen_Parcial_Sabatinos.ipynb",
      "provenance": [],
      "collapsed_sections": []
    },
    "kernelspec": {
      "name": "python3",
      "display_name": "Python 3"
    },
    "language_info": {
      "name": "python"
    }
  },
  "cells": [
    {
      "cell_type": "code",
      "execution_count": 1,
      "metadata": {
        "colab": {
          "base_uri": "https://localhost:8080/"
        },
        "id": "3WI1AIYef4BV",
        "outputId": "28035e71-dbdc-479f-95c2-e3f9be8f01bf"
      },
      "outputs": [
        {
          "output_type": "stream",
          "name": "stdout",
          "text": [
            "Ingrese cualquier numero: 5\n",
            "La suma de la serie de inicio hasta el numero dado es:  15\n"
          ]
        }
      ],
      "source": [
        "inicio_serie = int (input(\"Ingrese cualquier numero: \"))\n",
        "sumatoria = 0\n",
        "for numero in range(inicio_serie):\n",
        "  sumatoria = sumatoria + (numero + 1)\n",
        "\n",
        "print(\"La suma de la serie de inicio hasta el numero dado es: \",sumatoria)"
      ]
    }
  ]
}