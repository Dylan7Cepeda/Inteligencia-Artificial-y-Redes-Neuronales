{
  "nbformat": 4,
  "nbformat_minor": 0,
  "metadata": {
    "colab": {
      "name": "IA_Ejercicio1_DylanCepeda_1942496.ipynb",
      "provenance": [],
      "collapsed_sections": []
    },
    "kernelspec": {
      "name": "python3",
      "display_name": "Python 3"
    },
    "language_info": {
      "name": "python"
    }
  },
  "cells": [
    {
      "cell_type": "markdown",
      "source": [
        "# **A2: Ejercicios Básicos en Python**\n",
        " Dylan Jesús Cepeda González 1942496 N1-N3"
      ],
      "metadata": {
        "id": "MVy_PCvDCPk1"
      }
    },
    {
      "cell_type": "markdown",
      "source": [
        "*EJERCICIO 1*"
      ],
      "metadata": {
        "id": "QPgzCh83DK_y"
      }
    },
    {
      "cell_type": "code",
      "source": [
        "def funcion_e1():                                                                #cree una funcion para demostrar todos los casos en resumidas lineas\n",
        "  saludo_usuario = str (input(\"Escribe tu nombre por favor: \"))                  #almacenamos el input de tipo string\n",
        "  if saludo_usuario==\"Ana\" or saludo_usuario==\"Juan\" or saludo_usuario==\"Pedro\": #condicione con logico or para exceptuar los nombres a no saludar\n",
        "      print(\"No conozco a nadie llamado asi\")\n",
        "  else:                                                                          #mientras no se trate de los anteriores nombres se saludara al usuario\n",
        "      print(\"Gusto en saludarte\", saludo_usuario)"
      ],
      "metadata": {
        "id": "CZVlt_1SCYQ8"
      },
      "execution_count": null,
      "outputs": []
    },
    {
      "cell_type": "code",
      "source": [
        "funcion_e1()"
      ],
      "metadata": {
        "colab": {
          "base_uri": "https://localhost:8080/"
        },
        "id": "Z5q2OedrL-M4",
        "outputId": "a6833c6d-9a12-45f8-8706-b4c7474ca468"
      },
      "execution_count": null,
      "outputs": [
        {
          "output_type": "stream",
          "name": "stdout",
          "text": [
            "Escribe tu nombre por favor: Ana\n",
            "No conozco a nadie llamado asi\n"
          ]
        }
      ]
    },
    {
      "cell_type": "code",
      "source": [
        "funcion_e1()"
      ],
      "metadata": {
        "colab": {
          "base_uri": "https://localhost:8080/"
        },
        "id": "CESVq_bpMTky",
        "outputId": "c539ed7e-82b5-487a-c15d-b30748a16495"
      },
      "execution_count": null,
      "outputs": [
        {
          "output_type": "stream",
          "name": "stdout",
          "text": [
            "Escribe tu nombre por favor: Juan\n",
            "No conozco a nadie llamado asi\n"
          ]
        }
      ]
    },
    {
      "cell_type": "code",
      "source": [
        "funcion_e1()"
      ],
      "metadata": {
        "colab": {
          "base_uri": "https://localhost:8080/"
        },
        "id": "oO5rEgj3Mcd3",
        "outputId": "0f5a3178-ac3d-4e62-bf01-a7fb9f3d8736"
      },
      "execution_count": null,
      "outputs": [
        {
          "output_type": "stream",
          "name": "stdout",
          "text": [
            "Escribe tu nombre por favor: Pedro\n",
            "No conozco a nadie llamado asi\n"
          ]
        }
      ]
    },
    {
      "cell_type": "code",
      "source": [
        "funcion_e1()"
      ],
      "metadata": {
        "colab": {
          "base_uri": "https://localhost:8080/"
        },
        "id": "xgq0oeOJMjBz",
        "outputId": "264d04ee-9b96-441a-a32f-8ce815d43aa9"
      },
      "execution_count": null,
      "outputs": [
        {
          "output_type": "stream",
          "name": "stdout",
          "text": [
            "Escribe tu nombre por favor: Dylan\n",
            "Gusto en saludarte Dylan\n"
          ]
        }
      ]
    },
    {
      "cell_type": "markdown",
      "source": [
        "*EJERCICIO 2*"
      ],
      "metadata": {
        "id": "9CZmO8JLDAl0"
      }
    },
    {
      "cell_type": "code",
      "source": [
        "Lista = [\"tres\",\"tristes\",\"tigres\",\"tragaban\",\"trigo\",\"en\",\"un\",\"trigal\"]\n",
        "for z in reversed(Lista): #La funcion reversed toma un argumento y regresa un iterador invertido. \n",
        "  print(z)"
      ],
      "metadata": {
        "colab": {
          "base_uri": "https://localhost:8080/"
        },
        "id": "ySdqnIFj14oj",
        "outputId": "e5071b2c-f990-4621-b874-79bb409a2db1"
      },
      "execution_count": null,
      "outputs": [
        {
          "output_type": "stream",
          "name": "stdout",
          "text": [
            "trigal\n",
            "un\n",
            "en\n",
            "trigo\n",
            "tragaban\n",
            "tigres\n",
            "tristes\n",
            "tres\n"
          ]
        }
      ]
    },
    {
      "cell_type": "code",
      "source": [
        "list(reversed(Lista))  #Otra manera de hacerlo tomando la funcion reversed como parametro y la lista como argumento de una nueva funcion list. "
      ],
      "metadata": {
        "colab": {
          "base_uri": "https://localhost:8080/"
        },
        "id": "by0LMcEfEp5r",
        "outputId": "e6116985-e41b-4e4f-d2ce-15a23e399b5d"
      },
      "execution_count": null,
      "outputs": [
        {
          "output_type": "execute_result",
          "data": {
            "text/plain": [
              "['trigal', 'un', 'en', 'trigo', 'tragaban', 'tigres', 'tristes', 'tres']"
            ]
          },
          "metadata": {},
          "execution_count": 44
        }
      ]
    },
    {
      "cell_type": "markdown",
      "source": [
        "*EJERCICIO 3*"
      ],
      "metadata": {
        "id": "n5bjoEASC0uF"
      }
    },
    {
      "cell_type": "code",
      "source": [
        "def funcion_e3(marco):  #definimos la funcion creada con un parametro\n",
        "  for x in marco:       #añadimos el parametro a un ciclo for\n",
        "    print(x)"
      ],
      "metadata": {
        "id": "7paJkZYW15Eb"
      },
      "execution_count": null,
      "outputs": []
    },
    {
      "cell_type": "code",
      "source": [
        "cuadro = [\"*************\",\"*Esta       *\",\"*actividad  *\",\"*es         *\",\"*para       *\",\"*practicar  *\",\"*************\"]\n",
        "\n",
        "funcion_e3(cuadro)  #le damos un argumento a la funcion con la informacion de la lista de arriba"
      ],
      "metadata": {
        "colab": {
          "base_uri": "https://localhost:8080/"
        },
        "id": "FjNUvscA_004",
        "outputId": "8087f3ca-b230-4e09-f3fd-36501a80a254"
      },
      "execution_count": null,
      "outputs": [
        {
          "output_type": "stream",
          "name": "stdout",
          "text": [
            "*************\n",
            "*Esta       *\n",
            "*actividad  *\n",
            "*es         *\n",
            "*para       *\n",
            "*practicar  *\n",
            "*************\n"
          ]
        }
      ]
    }
  ]
}